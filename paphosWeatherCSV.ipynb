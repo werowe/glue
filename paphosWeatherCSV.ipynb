{
 "cells": [
  {
   "cell_type": "markdown",
   "metadata": {},
   "source": [
    "#### Paphos Weather\n",
    "\n",
    "This page shows various metrics for the weather in Paphos, Cyprus.\n",
    "\n",
    "\n",
    "Weather data is purchased from Openweather Marketplace [here](https://home.openweathermap.org/marketplace/my_orders)\n",
    "\n",
    "\n",
    "The code below is written by myself, Walker Rowe.\n",
    "\n",
    "```sql\n",
    "create table weather(\n",
    "dt_iso date,\n",
    "temp decimal(4,2),\n",
    "temp_min decimal(2,2), \n",
    "temp_max decimal(2,2), \n",
    "pressure int, \n",
    "humidity int, \n",
    "speed decimal(3,2), \n",
    "deg int, \n",
    "main varchar(50),\n",
    "description varchar(50))\n",
    "\n",
    "(85.28,77.92,87.8,1016,58,6.93,170,Clouds,scattered clouds)\n",
    "```"
   ]
  },
  {
   "cell_type": "code",
   "execution_count": 38,
   "metadata": {},
   "outputs": [],
   "source": [
    "import simplejson as json\n",
    "from datetime import date\n",
    "from datetime import datetime\n",
    "import time\n",
    "\n",
    "\n",
    "def toDate(str):\n",
    "    return datetime.strptime(str, '%Y-%m-%d %H:%M')\n",
    "  \n"
   ]
  },
  {
   "cell_type": "code",
   "execution_count": 39,
   "metadata": {},
   "outputs": [],
   "source": [
    "f=open('/Users/walkerrowe/Documents/paphosWeather.json', 'r')\n",
    "p=open('/Users/walkerrowe/Documents/paphosWeather.csv', 'w')\n",
    "\n",
    "p.write(\"temp,temp_min,temp_max,pressure,humidity,speed,deg,main,description,dt_iso\\n\")\n",
    "for l in f:\n",
    "    w=json.loads(l)\n",
    "    #dt_iso=toDate(w['dt_iso'][0:16])\n",
    "    dt = time.localtime(w['dt'])\n",
    "    if dt.tm_mon in (9,10,11,12,1,2,3,4):\n",
    "        #dt_iso=datetime.strftime(dt_iso, '%Y-%m-%d %H:%M:%S')\n",
    "        epoch = w['dt']\n",
    "        temp=w['main']['temp']\n",
    "        temp_min=w['main']['temp_min']\n",
    "        temp_max=w['main']['temp_max']\n",
    "        pressure=w['main']['pressure']\n",
    "        humidity=w['main']['humidity']\n",
    "        speed=w['wind']['speed']\n",
    "        deg=w['wind']['deg']\n",
    "        main=w['weather'][0]['main']\n",
    "        description=w['weather'][0]['description']\n",
    "        sql=\"{9},{0},{1},{2},{3},{4},{5},{6},'{7}','{8}'\". \\\n",
    "             format(temp  , temp_min , temp_max  , pressure , \\\n",
    "        humidity , speed , deg , main ,description, epoch   )\n",
    "        p.write(sql + '\\n')\n",
    "        \n",
    "f.close()\n",
    "p.close()\n",
    " "
   ]
  },
  {
   "cell_type": "code",
   "execution_count": 40,
   "metadata": {},
   "outputs": [
    {
     "data": {
      "text/plain": [
       "19"
      ]
     },
     "execution_count": 40,
     "metadata": {},
     "output_type": "execute_result"
    }
   ],
   "source": [
    "len('2020-09-12 14:00:00')"
   ]
  },
  {
   "cell_type": "code",
   "execution_count": 41,
   "metadata": {},
   "outputs": [],
   "source": [
    "dt=time.localtime(1599930000)"
   ]
  },
  {
   "cell_type": "code",
   "execution_count": 42,
   "metadata": {},
   "outputs": [
    {
     "data": {
      "text/plain": [
       "9"
      ]
     },
     "execution_count": 42,
     "metadata": {},
     "output_type": "execute_result"
    }
   ],
   "source": [
    "dt.tm_mon"
   ]
  },
  {
   "cell_type": "code",
   "execution_count": null,
   "metadata": {},
   "outputs": [],
   "source": []
  }
 ],
 "metadata": {
  "kernelspec": {
   "display_name": "Python 3",
   "language": "python",
   "name": "python3"
  },
  "language_info": {
   "codemirror_mode": {
    "name": "ipython",
    "version": 3
   },
   "file_extension": ".py",
   "mimetype": "text/x-python",
   "name": "python",
   "nbconvert_exporter": "python",
   "pygments_lexer": "ipython3",
   "version": "3.4.4"
  }
 },
 "nbformat": 4,
 "nbformat_minor": 2
}
