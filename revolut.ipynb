{
 "cells": [
  {
   "cell_type": "code",
   "execution_count": 32,
   "id": "b807ec38",
   "metadata": {},
   "outputs": [],
   "source": [
    "import pandas as pd\n",
    "import numpy as np\n",
    "import re\n",
    "\n",
    "\n",
    " \n",
    "f='/Users/walkerrowe/Downloads/revolut.xlsx'\n",
    "\n",
    "df = pd.read_excel(f,sheet_name='euros')\n",
    "\n",
    "euro = 1.16\n",
    "\n",
    "\n",
    "\n",
    "dt=pd.Series(df['Started Date'].astype(str).map(lambda l : l[5:7]    + '/' + l[8:10] + '/' +    l[0:4]),name=\"Date\")\n",
    " \n",
    "payee=pd.Series(df['Description'],name=\"Payee\")\n",
    "amount=pd.Series(df['Amount'].astype('float')) * euro\n",
    "\n",
    "\n",
    "simplifi=pd.DataFrame([dt,payee,amount.round(2)]).transpose()\n",
    "\n",
    "simplifi.to_csv(f+'wise.csv',sep=\",\",line_terminator='\\n',index=False)\n",
    "\n"
   ]
  },
  {
   "cell_type": "code",
   "execution_count": null,
   "id": "de501aab",
   "metadata": {},
   "outputs": [],
   "source": []
  }
 ],
 "metadata": {
  "kernelspec": {
   "display_name": "Python 3 (ipykernel)",
   "language": "python",
   "name": "python3"
  },
  "language_info": {
   "codemirror_mode": {
    "name": "ipython",
    "version": 3
   },
   "file_extension": ".py",
   "mimetype": "text/x-python",
   "name": "python",
   "nbconvert_exporter": "python",
   "pygments_lexer": "ipython3",
   "version": "3.8.9"
  }
 },
 "nbformat": 4,
 "nbformat_minor": 5
}
