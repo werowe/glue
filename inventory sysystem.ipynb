{
 "cells": [
  {
   "cell_type": "code",
   "execution_count": null,
   "metadata": {},
   "outputs": [],
   "source": [
    "from datetime import date\n",
    "import uuid\n",
    "import jaydebeapi, os\n",
    "import random\n",
    "\n",
    "\n",
    "def getToday():\n",
    "    return date.today().isoformat()\n",
    "\n",
    "def generateSQL(tablename, columns, values):\n",
    "    \n",
    "    sql= ' insert into ' + tablename + ' (' + columns +  ' ) values (' + values + ');'\n",
    "    \n",
    "    return sql"
   ]
  },
  {
   "cell_type": "code",
   "execution_count": null,
   "metadata": {},
   "outputs": [],
   "source": [
    "class Customer:\n",
    "    \n",
    "    columns = ['customerNumber',\n",
    "     'customerName',           \n",
    "    'phoneNumber',\n",
    "    'postalCode',\n",
    "    'locale',\n",
    "    'dateCreated',\n",
    "    'email']\n",
    "    \n",
    "    salesOrders = []\n",
    "\n",
    "    \n",
    "    def __init__(self):\n",
    "        \n",
    "        self.customerNumber = uuid.uuid1()\n",
    "        self.customerName = randomString(20)\n",
    "        self.phoneNumber = random.randint(1000000,9000000)\n",
    "        self.postalCode = randomString(4)\n",
    "        self.locale = 'en-US.utf-8'\n",
    "        self.dateCreated = getToday()\n",
    "        self.email = randomString(4) + '@' + randomString(4) + \".com\"\n",
    "        \n",
    "        for i in range(random.randint(1,5)):\n",
    "            self.salesOrders.append(SalesOrder(self.customerNumber))\n",
    "        \n",
    "    def getColumns(self):\n",
    "        return self.columns\n",
    "    \n",
    "    def getValues(self):\n",
    "               \n",
    "        return [self.customerNumber,\n",
    "            self.customerName,\n",
    "            self.phoneNumber,\n",
    "            self.postalCode,\n",
    "            self.locale,\n",
    "            self.dateCreated,\n",
    "            self.email]\n",
    "\n",
    "    def getSalesOrders(self):\n",
    "        return self.salesOrders\n",
    "     \n",
    "    \n",
    "'''    \n",
    "create table customers (\n",
    "customerNumber uuid,\n",
    "customerName varchar(50),\n",
    "phoneNumber varchar(14),\n",
    "postalCode varchar(4),\n",
    "locale varchar(11),\n",
    "dateCreated timestamp,\n",
    "email varchar(20));\n",
    "'''        \n",
    "        \n",
    "\n",
    "#class InventoryMovement:\n",
    "    \n",
    "\n",
    "#class Product:\n",
    "    \n",
    "\n",
    "\n",
    "class SalesOrder:\n",
    "\n",
    "    columns =  ['customerNumber',\n",
    "        'orderNumber' ,\n",
    "        'comments' ,\n",
    "        'orderDate' ,\n",
    "        'orderType' ,\n",
    "        'shipDate'  ,\n",
    "        'discount'  ,\n",
    "        'quantity'  ,\n",
    "        'productNumber']\n",
    "\n",
    "    def __init__(self, customerNumber):\n",
    "\n",
    "        self.customerNumber = customerNumber\n",
    "        self.orderNumber = uuid.uuid1()\n",
    "        self.comments = randomString(20)\n",
    "        self.orderDate =  getToday()\n",
    "        self.orderType = \"sale\"\n",
    "        self.shipDate  =  getToday() \n",
    "        self.discount  = 0\n",
    "        self.quantity  = random.randint(1,100)\n",
    "        self.productNumber = uuid.uuid1()  \n",
    "        \n",
    "    def getColumns(self):\n",
    "        return self.columns    \n",
    "        \n",
    "        \n",
    "    def getValues(self):\n",
    "        return  [ self.customerNumber,\n",
    "        self.orderNumber ,\n",
    "        self.comments ,\n",
    "        self.orderDate ,\n",
    "        self.orderType ,\n",
    "        self.shipDate  ,\n",
    "        self.discount  ,\n",
    "        self.quantity  ,\n",
    "        self.productNumber ]\n",
    "\n",
    "'''\n",
    "create table salesOrder (\n",
    "    customerNumber uuid,\n",
    "    orderNumber uuid,\n",
    "    comments varchar(200),\n",
    "    orderDate timestamp,\n",
    "    orderType varchar(20),\n",
    "    shipDate timestamp,\n",
    "    discount float,\n",
    "    quantity integer,\n",
    "    productNumber varchar(50));\n",
    "'''\n"
   ]
  },
  {
   "cell_type": "code",
   "execution_count": null,
   "metadata": {},
   "outputs": [],
   "source": [
    "\n",
    "\n",
    "def connect():\n",
    "    dsn_database = \"inventory\"\n",
    "    dsn_hostname = \"paris2x\"\n",
    "    dsn_port = \"5432\"\n",
    "    dsn_uid = \"walker\"\n",
    "    dsn_pwd = \"livres\"\n",
    "    jdbc_driver_name = \"org.postgresql.Driver\"\n",
    "    jdbc_driver_loc = os.path.join('/home/ubuntu/Documents/postgresql-42.2.14.jar')\n",
    "\n",
    "    sql_str = \"select version()\"\n",
    "\n",
    "    connection_string='jdbc:postgresql://'+ dsn_hostname+':'+ dsn_port +'/'+ dsn_database\n",
    "\n",
    "    url = '{0}:user={1};password={2}'.format(connection_string, dsn_uid, dsn_pwd)\n",
    "    print(\"Connection String: \" + connection_string)\n",
    "\n",
    "    conn = jaydebeapi.connect(jdbc_driver_name, connection_string, {'user': dsn_uid, 'password': dsn_pwd},\n",
    "    jars=jdbc_driver_loc)\n",
    "\n",
    "    return conn\n"
   ]
  },
  {
   "cell_type": "code",
   "execution_count": null,
   "metadata": {},
   "outputs": [],
   "source": [
    "\n",
    "\n",
    "def randomString(length):\n",
    "    \n",
    "    char=\"\"\n",
    "    for i in range(length):\n",
    "        char = char + chr(random.randint(97,123))\n",
    "    return char"
   ]
  },
  {
   "cell_type": "code",
   "execution_count": null,
   "metadata": {},
   "outputs": [],
   "source": [
    "def commaCheck(field):\n",
    "    \n",
    "     if isinstance(field, uuid.UUID):\n",
    "        return   str(field)  \n",
    "    \n",
    "     if isinstance(field, int):\n",
    "        return  str(field)  \n",
    "    \n",
    "     if isinstance(field, str):\n",
    "        return field "
   ]
  },
  {
   "cell_type": "code",
   "execution_count": null,
   "metadata": {},
   "outputs": [],
   "source": [
    "def generateCustomers(conn):\n",
    "    for i in range(2000):\n",
    "        \n",
    "        customer = Customer()\n",
    "       \n",
    "        columns = ','.join([col for col in customer.getColumns()])\n",
    "        \n",
    "        values = ','.join([\"'\" + commaCheck(value) + \"'\" for value in customer.getValues()])\n",
    "\n",
    "        sql=generateSQL(\"customers\",columns,values)\n",
    "       \n",
    "\n",
    "        curs = conn.cursor()\n",
    "        curs.execute(sql)\n",
    "        \n",
    "        generateOrders(customer.getSalesOrders(),conn)\n",
    "       \n",
    "        "
   ]
  },
  {
   "cell_type": "code",
   "execution_count": null,
   "metadata": {},
   "outputs": [],
   "source": [
    "def generateOrders(orders,conn):\n",
    "    for order in orders:\n",
    "         \n",
    "        columns = ','.join([col for col in order.getColumns()])\n",
    "        \n",
    "        values = ','.join([\"'\" + commaCheck(value) + \"'\" for value in order.getValues()])\n",
    "\n",
    "        sql=generateSQL(\"salesOrder\",columns,values)\n",
    "   \n",
    "        \n",
    "        curs = conn.cursor()\n",
    "        curs.execute(sql) \n",
    "\n",
    "         "
   ]
  },
  {
   "cell_type": "code",
   "execution_count": null,
   "metadata": {},
   "outputs": [],
   "source": [
    "def main():\n",
    "    conn=connect()\n",
    "    generateCustomers(conn)\n",
    "   \n",
    "\n",
    "if __name__ == \"__main__\":\n",
    "    main()"
   ]
  },
  {
   "cell_type": "code",
   "execution_count": null,
   "metadata": {},
   "outputs": [],
   "source": [
    " "
   ]
  },
  {
   "cell_type": "code",
   "execution_count": null,
   "metadata": {},
   "outputs": [],
   "source": [
    " "
   ]
  },
  {
   "cell_type": "code",
   "execution_count": null,
   "metadata": {},
   "outputs": [],
   "source": [
    " "
   ]
  },
  {
   "cell_type": "code",
   "execution_count": null,
   "metadata": {},
   "outputs": [],
   "source": [
    "\n",
    "        \n",
    "\n",
    "        "
   ]
  },
  {
   "cell_type": "code",
   "execution_count": null,
   "metadata": {},
   "outputs": [],
   "source": [
    " "
   ]
  },
  {
   "cell_type": "code",
   "execution_count": null,
   "metadata": {},
   "outputs": [],
   "source": [
    " "
   ]
  },
  {
   "cell_type": "code",
   "execution_count": null,
   "metadata": {},
   "outputs": [],
   "source": []
  }
 ],
 "metadata": {
  "kernelspec": {
   "display_name": "Python 3",
   "language": "python",
   "name": "python3"
  },
  "language_info": {
   "codemirror_mode": {
    "name": "ipython",
    "version": 3
   },
   "file_extension": ".py",
   "mimetype": "text/x-python",
   "name": "python",
   "nbconvert_exporter": "python",
   "pygments_lexer": "ipython3",
   "version": "3.7.9"
  }
 },
 "nbformat": 4,
 "nbformat_minor": 4
}
