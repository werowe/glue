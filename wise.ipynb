{
 "cells": [
  {
   "cell_type": "code",
   "execution_count": 45,
   "id": "b807ec38",
   "metadata": {},
   "outputs": [],
   "source": [
    "import pandas as pd\n",
    "import numpy as np\n",
    "import re\n",
    "\n",
    "\n",
    "def stripWords(s):\n",
    "\n",
    "    word = s\n",
    "    words = ['Sent', 'money', 'to', 'Card', 'transaction', 'of', 'issued', 'by'] \n",
    "    for w in words:\n",
    "        word = word.replace(w, '')\n",
    "        \n",
    "        \n",
    "    a=word    \n",
    "    a=re.sub('\\d','',a)\n",
    "    b=re.sub('\\d','',a)\n",
    "    c=re.sub('\\.','',b)\n",
    "    d=re.sub('Eur','',c)\n",
    "    e=re.sub('EUR','',d)\n",
    "    f=re.sub('PAPHOS','',e)\n",
    "     \n",
    "    return f.strip()\n",
    "\n",
    "f='/Users/walkerrowe/Downloads/wise.csv'\n",
    "\n",
    "df = pd.read_csv(f)\n",
    "\n",
    "euro = 1.16\n",
    "\n",
    "dt=pd.Series(df['Date'].map(lambda l : l[3:5]    + '/' + l[0:2] + '/' +    l[-4:]))\n",
    " \n",
    "vendor=pd.Series(df['Description'],name=\"Payee\")\n",
    "payee=vendor.apply(stripWords)\n",
    "amount=pd.Series(df['Amount'].astype('float')) * euro\n",
    "\n",
    "\n",
    "simplifi=pd.DataFrame([dt,payee,amount.round(2)]).transpose()\n",
    "\n",
    "simplifi.to_csv(f+'wise.csv',sep=\",\",line_terminator='\\n',index=False)\n",
    " "
   ]
  },
  {
   "cell_type": "code",
   "execution_count": null,
   "id": "527e0c19",
   "metadata": {},
   "outputs": [],
   "source": []
  }
 ],
 "metadata": {
  "kernelspec": {
   "display_name": "Python 3 (ipykernel)",
   "language": "python",
   "name": "python3"
  },
  "language_info": {
   "codemirror_mode": {
    "name": "ipython",
    "version": 3
   },
   "file_extension": ".py",
   "mimetype": "text/x-python",
   "name": "python",
   "nbconvert_exporter": "python",
   "pygments_lexer": "ipython3",
   "version": "3.8.9"
  }
 },
 "nbformat": 4,
 "nbformat_minor": 5
}
