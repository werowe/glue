{
 "cells": [
  {
   "cell_type": "code",
   "execution_count": 27,
   "id": "b807ec38",
   "metadata": {},
   "outputs": [],
   "source": [
    "import pandas as pd\n",
    "import numpy as np\n",
    "\n",
    "\n",
    "\n",
    "def stripWords(s):\n",
    "\n",
    "    word = s\n",
    "    words = ['Sent', 'money', 'to', 'Card', 'transaction', 'of', 'issued', 'by'] \n",
    "    for w in words:\n",
    "        word = word.replace(w, '')\n",
    "    return word\n",
    "\n",
    "f='/Users/walkerrowe/Downloads/wise.csv'\n",
    "\n",
    "df = pd.read_csv(f)\n",
    "\n",
    "euro = 1.16\n",
    "\n",
    "dt=pd.Series(df['Date'].map(lambda l : l[3:5]    + '/' + l[0:2] + '/' +    l[-4:]))\n",
    " \n",
    "vendor=pd.Series(df['Description'],name=\"Payee\")\n",
    "payee=vendor.apply(stripWords)\n",
    "amount=pd.Series(df['Amount'].astype('float')) * euro\n",
    "\n",
    "\n",
    "simplifi=pd.DataFrame([dt,payee,amount]).transpose()\n",
    "\n",
    "simplifi.to_csv(f+'wise.csv',sep=\",\",line_terminator='\\n',index=False)\n",
    " "
   ]
  },
  {
   "cell_type": "code",
   "execution_count": null,
   "id": "80692f47",
   "metadata": {},
   "outputs": [],
   "source": []
  }
 ],
 "metadata": {
  "kernelspec": {
   "display_name": "Python 3 (ipykernel)",
   "language": "python",
   "name": "python3"
  },
  "language_info": {
   "codemirror_mode": {
    "name": "ipython",
    "version": 3
   },
   "file_extension": ".py",
   "mimetype": "text/x-python",
   "name": "python",
   "nbconvert_exporter": "python",
   "pygments_lexer": "ipython3",
   "version": "3.8.9"
  }
 },
 "nbformat": 4,
 "nbformat_minor": 5
}
