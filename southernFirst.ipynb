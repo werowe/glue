{
 "cells": [
  {
   "cell_type": "code",
   "execution_count": 34,
   "id": "b807ec38",
   "metadata": {},
   "outputs": [],
   "source": [
    "import pandas as pd\n",
    "import numpy as np\n",
    "import re\n",
    "from datetime import date\n",
    "\n",
    "'''\n",
    "Date,Number,,Description,Amount,Balance\n",
    "10/20,,,Federal Benefit Payment/X...,\"1,348.00\",\"26,097.72\"\n",
    "'''\n",
    "\n",
    "\n",
    " \n",
    "todays_date = date.today()\n",
    "\n",
    "\n",
    "f='/Users/walkerrowe/Downloads/sf.csv'\n",
    "\n",
    "df = pd.read_csv(f)\n",
    " \n",
    "\n",
    "dt=pd.Series(df['Date'].map(lambda l : l[0:5]    + '/' + str(todays_date.year) ))\n",
    " \n",
    "payee=pd.Series(df['Description'],name=\"Payee\")\n",
    "\n",
    "amount=pd.Series(df['Amount']).map(lambda l :  l.replace(\",\",\"\") ).astype('float')  \n",
    "   \n",
    " \n",
    "\n",
    "simplifi=pd.DataFrame([dt,payee,amount]).transpose()\n",
    "\n",
    "simplifi.to_csv(f+'.csv',sep=\",\",line_terminator='\\n',index=False)\n",
    " "
   ]
  },
  {
   "cell_type": "code",
   "execution_count": 35,
   "id": "527e0c19",
   "metadata": {},
   "outputs": [
    {
     "data": {
      "text/plain": [
       "0     1348.00\n",
       "1    -3605.76\n",
       "2     -254.89\n",
       "3     -120.00\n",
       "4    -1670.43\n",
       "5    -1583.51\n",
       "6     -100.11\n",
       "7      -44.07\n",
       "8     -249.50\n",
       "9      -95.50\n",
       "10     -19.07\n",
       "11    6000.00\n",
       "12     -49.75\n",
       "Name: Amount, dtype: float64"
      ]
     },
     "execution_count": 35,
     "metadata": {},
     "output_type": "execute_result"
    }
   ],
   "source": [
    "amount\n"
   ]
  },
  {
   "cell_type": "code",
   "execution_count": 33,
   "id": "2baf993b",
   "metadata": {},
   "outputs": [
    {
     "data": {
      "text/plain": [
       "1348.0"
      ]
     },
     "execution_count": 33,
     "metadata": {},
     "output_type": "execute_result"
    }
   ],
   "source": [
    "float('1348.00')"
   ]
  },
  {
   "cell_type": "code",
   "execution_count": 3,
   "id": "7c9621f4",
   "metadata": {},
   "outputs": [
    {
     "name": "stdout",
     "output_type": "stream",
     "text": [
      "Current date:  2021-10-26\n",
      "Current year: 2021\n"
     ]
    }
   ],
   "source": [
    " \n"
   ]
  },
  {
   "cell_type": "code",
   "execution_count": null,
   "id": "e1e55037",
   "metadata": {},
   "outputs": [],
   "source": []
  }
 ],
 "metadata": {
  "kernelspec": {
   "display_name": "Python 3 (ipykernel)",
   "language": "python",
   "name": "python3"
  },
  "language_info": {
   "codemirror_mode": {
    "name": "ipython",
    "version": 3
   },
   "file_extension": ".py",
   "mimetype": "text/x-python",
   "name": "python",
   "nbconvert_exporter": "python",
   "pygments_lexer": "ipython3",
   "version": "3.8.9"
  }
 },
 "nbformat": 4,
 "nbformat_minor": 5
}
