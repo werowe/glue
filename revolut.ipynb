{
 "cells": [
  {
   "cell_type": "code",
   "execution_count": 27,
   "id": "6340a4da",
   "metadata": {},
   "outputs": [],
   "source": [
    "import pandas as pd\n",
    "import numpy as np\n",
    "import re\n",
    "\n",
    "eur=1.14\n",
    " \n",
    "f='/home/walker/Downloads/revolut.xlsx'\n",
    "df = pd.read_excel(f,sheet_name='usd')\n",
    "dollars=df[df['Type'].isin(['CARD_PAYMENT','TRANSFER'])]\n",
    "df = pd.read_excel(f,sheet_name='eur')\n",
    "euros=df[df['Type'].isin(['CARD_PAYMENT','TRANSFER'])]\n"
   ]
  },
  {
   "cell_type": "code",
   "execution_count": 38,
   "id": "d6179a81",
   "metadata": {},
   "outputs": [],
   "source": [
    "df=euros\n",
    "dt=pd.Series(df['Started Date'].astype(str).map(lambda l : l[5:7]    + '/' + l[8:10] + '/' +    l[:4]),name=\"Date\") \n",
    "vendor=pd.Series(df['Description'])\n",
    "amount=pd.Series(df['Amount'].astype('float')) * euro\n",
    "eurosDF=pd.DataFrame([dt,vendor,amount.round(2)]).transpose()\n",
    "\n",
    "df=dollars\n",
    "dt=pd.Series(df['Started Date'].astype(str).map(lambda l : l[5:7]    + '/' + l[8:10] + '/' +    l[:4]),name=\"Date\")\n",
    "vendor=pd.Series(df['Description'])\n",
    "amount=pd.Series(df['Amount'].astype('float'))\n",
    "dollarsDF=pd.DataFrame([dt,vendor,amount.round(2)]).transpose()\n",
    "\n",
    "simplifi=pd.concat([eurosDF,dollarsDF])\n",
    "\n",
    "simplifi.to_csv(f+'revolut.csv',sep=\",\",line_terminator='\\n',index=False)"
   ]
  },
  {
   "cell_type": "code",
   "execution_count": null,
   "id": "7430a577",
   "metadata": {},
   "outputs": [],
   "source": []
  }
 ],
 "metadata": {
  "kernelspec": {
   "display_name": "Python 3 (ipykernel)",
   "language": "python",
   "name": "python3"
  },
  "language_info": {
   "codemirror_mode": {
    "name": "ipython",
    "version": 3
   },
   "file_extension": ".py",
   "mimetype": "text/x-python",
   "name": "python",
   "nbconvert_exporter": "python",
   "pygments_lexer": "ipython3",
   "version": "3.8.10"
  }
 },
 "nbformat": 4,
 "nbformat_minor": 5
}
