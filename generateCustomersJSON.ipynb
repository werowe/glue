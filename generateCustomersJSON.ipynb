{
 "cells": [
  {
   "cell_type": "code",
   "execution_count": 293,
   "metadata": {},
   "outputs": [],
   "source": [
    "from datetime import date,timedelta\n",
    "import uuid\n",
    "import jaydebeapi, os\n",
    "import random\n",
    "import simplejson as json\n",
    "\n",
    "\n",
    "def getToday():\n",
    "    return date.today().isoformat()\n",
    "\n",
    "def generateJSON(record):\n",
    "    \n",
    "    j = {}\n",
    "    \n",
    "    columns=record.getColumns()\n",
    "    values=record.getValues()\n",
    "    \n",
    "    \n",
    "    for i in range(len(columns)):\n",
    "        j[columns[i]] = values[i]\n",
    "        \n",
    "    print(j)\n",
    "    return (j)"
   ]
  },
  {
   "cell_type": "code",
   "execution_count": 294,
   "metadata": {},
   "outputs": [],
   "source": [
    "class Customer:\n",
    "    \n",
    "    columns = ['customerNumber',\n",
    "     'customerName',           \n",
    "    'phoneNumber',\n",
    "    'postalCode',\n",
    "    'locale',\n",
    "    'dateCreated',\n",
    "    'email']\n",
    "    \n",
    "    salesOrders = []\n",
    "\n",
    "    \n",
    "    def __init__(self):\n",
    "        \n",
    "        self.customerNumber = str(uuid.uuid1())\n",
    "        self.customerName = randomString(20)\n",
    "        self.phoneNumber = random.randint(1000000,9000000)\n",
    "        self.postalCode = randomString(4)\n",
    "        self.locale = 'en-US.utf-8'\n",
    "        self.dateCreated = getToday()\n",
    "        self.email = randomString(4) + '@' + randomString(4) + \".com\"\n",
    "        \n",
    "      \n",
    "        \n",
    "    def getColumns(self):\n",
    "        return self.columns\n",
    "    \n",
    "    def getValues(self):\n",
    "               \n",
    "        return [self.customerNumber,\n",
    "            self.customerName,\n",
    "            self.phoneNumber,\n",
    "            self.postalCode,\n",
    "            self.locale,\n",
    "            self.dateCreated,\n",
    "            self.email]\n",
    "\n",
    "    def getSalesOrders(self):\n",
    "        return self.salesOrders\n",
    "     \n",
    "class SalesOrder:\n",
    "\n",
    "    columns =  ['customerNumber',\n",
    "        'orderNumber' ,\n",
    "        'comments' ,\n",
    "        'orderDate' ,\n",
    "        'orderType' ,\n",
    "        'shipDate'  ,\n",
    "        'discount'  ,\n",
    "        'quantity'  ,\n",
    "        'productNumber']\n",
    "\n",
    "    def __init__(self, customerNumber):\n",
    "\n",
    "        self.customerNumber = customerNumber\n",
    "        self.orderNumber = str(uuid.uuid1())\n",
    "        self.comments = randomString(20)\n",
    "        self.orderDate =  getToday()\n",
    "        self.orderType = \"sale\"\n",
    "        self.shipDate  =  (date.today() + timedelta(days=random.randint(3,14))).isoformat()\n",
    "        self.discount  = random.random()\n",
    "        self.quantity  = random.randint(1,100)\n",
    "        self.productNumber = str(uuid.uuid1())  \n",
    "        \n",
    "    def getColumns(self):\n",
    "        return self.columns    \n",
    "        \n",
    "        \n",
    "    def getValues(self):\n",
    "        return  [ self.customerNumber,\n",
    "        self.orderNumber ,\n",
    "        self.comments ,\n",
    "        self.orderDate ,\n",
    "        self.orderType ,\n",
    "        self.shipDate  ,\n",
    "        self.discount  ,\n",
    "        self.quantity  ,\n",
    "        self.productNumber ]\n",
    "\n",
    " \n"
   ]
  },
  {
   "cell_type": "code",
   "execution_count": 295,
   "metadata": {},
   "outputs": [],
   "source": [
    "def randomString(length):\n",
    "    \n",
    "    char=\"\"\n",
    "    for i in range(length):\n",
    "        char = char + chr(random.randint(97,122))\n",
    "    return char"
   ]
  },
  {
   "cell_type": "code",
   "execution_count": 296,
   "metadata": {},
   "outputs": [],
   "source": [
    "def commaCheck(field):\n",
    "    \n",
    "    if isinstance(field,int):\n",
    "        return  str(field)  \n",
    "    if isinstance(field,float):\n",
    "        return  str(field) \n",
    "    else:\n",
    "        return field "
   ]
  },
  {
   "cell_type": "code",
   "execution_count": 297,
   "metadata": {},
   "outputs": [],
   "source": [
    "def generateCustomers(c,o):\n",
    "    for i in range(2):        \n",
    "        customer = Customer()\n",
    "       \n",
    "        columns = ','.join([col for col in customer.getColumns()])\n",
    "        values = ','.join([\"'\" + commaCheck(value) + \"'\" for value in customer.getValues()])\n",
    "\n",
    "        print(columns)\n",
    "        print(values)\n",
    "        j=generateJSON(customer)\n",
    "        print(j)\n",
    "        \n",
    "        c.write(json.dumps(j))\n",
    "        generateOrders(customer,o)     "
   ]
  },
  {
   "cell_type": "code",
   "execution_count": 298,
   "metadata": {},
   "outputs": [],
   "source": [
    "def generateOrders(customer,o):\n",
    "    \n",
    "    for i in range(random.randint(1,4)):\n",
    "    \n",
    "        order=SalesOrder(customer.customerNumber)\n",
    "         \n",
    "        columns = ','.join([col for col in order.getColumns()])\n",
    "        print(order.getColumns())\n",
    "        print(order.getValues())\n",
    "        values = ','.join([\"'\" + commaCheck(value) + \"'\" for value in order.getValues()])\n",
    "\n",
    "        j=generateJSON(order)\n",
    "        print(j)\n",
    "        customer.salesOrders.append(j)\n",
    "        o.write(json.dumps(j))\n",
    "        \n",
    "    print(customer.getSalesOrders())\n",
    "\n",
    "   \n",
    "      \n",
    "\n",
    "         "
   ]
  },
  {
   "cell_type": "code",
   "execution_count": 299,
   "metadata": {},
   "outputs": [
    {
     "name": "stdout",
     "output_type": "stream",
     "text": [
      "customerNumber,customerName,phoneNumber,postalCode,locale,dateCreated,email\n",
      "'8c5bfe86-edd6-11ea-ab7a-0ec120e133fc','lfqznkdbbxirbtlsmlwg','7499402','gfra','en-US.utf-8','2020-09-03','wofk@fqjp.com'\n",
      "{'customerNumber': '8c5bfe86-edd6-11ea-ab7a-0ec120e133fc', 'customerName': 'lfqznkdbbxirbtlsmlwg', 'phoneNumber': 7499402, 'postalCode': 'gfra', 'locale': 'en-US.utf-8', 'dateCreated': '2020-09-03', 'email': 'wofk@fqjp.com'}\n",
      "{'customerNumber': '8c5bfe86-edd6-11ea-ab7a-0ec120e133fc', 'customerName': 'lfqznkdbbxirbtlsmlwg', 'phoneNumber': 7499402, 'postalCode': 'gfra', 'locale': 'en-US.utf-8', 'dateCreated': '2020-09-03', 'email': 'wofk@fqjp.com'}\n",
      "['customerNumber', 'orderNumber', 'comments', 'orderDate', 'orderType', 'shipDate', 'discount', 'quantity', 'productNumber']\n",
      "['8c5bfe86-edd6-11ea-ab7a-0ec120e133fc', '8c5bfe87-edd6-11ea-ab7a-0ec120e133fc', 'xxttaxdvihvmzznehyiq', '2020-09-03', 'sale', '2020-09-12', 0.6798164024118996, 99, '8c5bfe88-edd6-11ea-ab7a-0ec120e133fc']\n",
      "{'customerNumber': '8c5bfe86-edd6-11ea-ab7a-0ec120e133fc', 'orderNumber': '8c5bfe87-edd6-11ea-ab7a-0ec120e133fc', 'comments': 'xxttaxdvihvmzznehyiq', 'orderDate': '2020-09-03', 'orderType': 'sale', 'shipDate': '2020-09-12', 'discount': 0.6798164024118996, 'quantity': 99, 'productNumber': '8c5bfe88-edd6-11ea-ab7a-0ec120e133fc'}\n",
      "{'customerNumber': '8c5bfe86-edd6-11ea-ab7a-0ec120e133fc', 'orderNumber': '8c5bfe87-edd6-11ea-ab7a-0ec120e133fc', 'comments': 'xxttaxdvihvmzznehyiq', 'orderDate': '2020-09-03', 'orderType': 'sale', 'shipDate': '2020-09-12', 'discount': 0.6798164024118996, 'quantity': 99, 'productNumber': '8c5bfe88-edd6-11ea-ab7a-0ec120e133fc'}\n",
      "[{'customerNumber': '8c5bfe86-edd6-11ea-ab7a-0ec120e133fc', 'orderNumber': '8c5bfe87-edd6-11ea-ab7a-0ec120e133fc', 'comments': 'xxttaxdvihvmzznehyiq', 'orderDate': '2020-09-03', 'orderType': 'sale', 'shipDate': '2020-09-12', 'discount': 0.6798164024118996, 'quantity': 99, 'productNumber': '8c5bfe88-edd6-11ea-ab7a-0ec120e133fc'}]\n",
      "customerNumber,customerName,phoneNumber,postalCode,locale,dateCreated,email\n",
      "'8c5bfe89-edd6-11ea-ab7a-0ec120e133fc','rprrfaaqfyroxoiggcjf','4736704','scas','en-US.utf-8','2020-09-03','eipo@wwrx.com'\n",
      "{'customerNumber': '8c5bfe89-edd6-11ea-ab7a-0ec120e133fc', 'customerName': 'rprrfaaqfyroxoiggcjf', 'phoneNumber': 4736704, 'postalCode': 'scas', 'locale': 'en-US.utf-8', 'dateCreated': '2020-09-03', 'email': 'eipo@wwrx.com'}\n",
      "{'customerNumber': '8c5bfe89-edd6-11ea-ab7a-0ec120e133fc', 'customerName': 'rprrfaaqfyroxoiggcjf', 'phoneNumber': 4736704, 'postalCode': 'scas', 'locale': 'en-US.utf-8', 'dateCreated': '2020-09-03', 'email': 'eipo@wwrx.com'}\n",
      "['customerNumber', 'orderNumber', 'comments', 'orderDate', 'orderType', 'shipDate', 'discount', 'quantity', 'productNumber']\n",
      "['8c5bfe89-edd6-11ea-ab7a-0ec120e133fc', '8c5bfe8a-edd6-11ea-ab7a-0ec120e133fc', 'pbuygabbvceypdkieofv', '2020-09-03', 'sale', '2020-09-11', 0.9399369910325552, 63, '8c5bfe8b-edd6-11ea-ab7a-0ec120e133fc']\n",
      "{'customerNumber': '8c5bfe89-edd6-11ea-ab7a-0ec120e133fc', 'orderNumber': '8c5bfe8a-edd6-11ea-ab7a-0ec120e133fc', 'comments': 'pbuygabbvceypdkieofv', 'orderDate': '2020-09-03', 'orderType': 'sale', 'shipDate': '2020-09-11', 'discount': 0.9399369910325552, 'quantity': 63, 'productNumber': '8c5bfe8b-edd6-11ea-ab7a-0ec120e133fc'}\n",
      "{'customerNumber': '8c5bfe89-edd6-11ea-ab7a-0ec120e133fc', 'orderNumber': '8c5bfe8a-edd6-11ea-ab7a-0ec120e133fc', 'comments': 'pbuygabbvceypdkieofv', 'orderDate': '2020-09-03', 'orderType': 'sale', 'shipDate': '2020-09-11', 'discount': 0.9399369910325552, 'quantity': 63, 'productNumber': '8c5bfe8b-edd6-11ea-ab7a-0ec120e133fc'}\n",
      "['customerNumber', 'orderNumber', 'comments', 'orderDate', 'orderType', 'shipDate', 'discount', 'quantity', 'productNumber']\n",
      "['8c5bfe89-edd6-11ea-ab7a-0ec120e133fc', '8c5bfe8c-edd6-11ea-ab7a-0ec120e133fc', 'rtcurczddsdrapxveqyx', '2020-09-03', 'sale', '2020-09-17', 0.3530610605209632, 36, '8c5bfe8d-edd6-11ea-ab7a-0ec120e133fc']\n",
      "{'customerNumber': '8c5bfe89-edd6-11ea-ab7a-0ec120e133fc', 'orderNumber': '8c5bfe8c-edd6-11ea-ab7a-0ec120e133fc', 'comments': 'rtcurczddsdrapxveqyx', 'orderDate': '2020-09-03', 'orderType': 'sale', 'shipDate': '2020-09-17', 'discount': 0.3530610605209632, 'quantity': 36, 'productNumber': '8c5bfe8d-edd6-11ea-ab7a-0ec120e133fc'}\n",
      "{'customerNumber': '8c5bfe89-edd6-11ea-ab7a-0ec120e133fc', 'orderNumber': '8c5bfe8c-edd6-11ea-ab7a-0ec120e133fc', 'comments': 'rtcurczddsdrapxveqyx', 'orderDate': '2020-09-03', 'orderType': 'sale', 'shipDate': '2020-09-17', 'discount': 0.3530610605209632, 'quantity': 36, 'productNumber': '8c5bfe8d-edd6-11ea-ab7a-0ec120e133fc'}\n",
      "['customerNumber', 'orderNumber', 'comments', 'orderDate', 'orderType', 'shipDate', 'discount', 'quantity', 'productNumber']\n",
      "['8c5bfe89-edd6-11ea-ab7a-0ec120e133fc', '8c5bfe8e-edd6-11ea-ab7a-0ec120e133fc', 'actxjglakpabjhqzmwhw', '2020-09-03', 'sale', '2020-09-12', 0.537673259743523, 8, '8c5bfe8f-edd6-11ea-ab7a-0ec120e133fc']\n",
      "{'customerNumber': '8c5bfe89-edd6-11ea-ab7a-0ec120e133fc', 'orderNumber': '8c5bfe8e-edd6-11ea-ab7a-0ec120e133fc', 'comments': 'actxjglakpabjhqzmwhw', 'orderDate': '2020-09-03', 'orderType': 'sale', 'shipDate': '2020-09-12', 'discount': 0.537673259743523, 'quantity': 8, 'productNumber': '8c5bfe8f-edd6-11ea-ab7a-0ec120e133fc'}\n",
      "{'customerNumber': '8c5bfe89-edd6-11ea-ab7a-0ec120e133fc', 'orderNumber': '8c5bfe8e-edd6-11ea-ab7a-0ec120e133fc', 'comments': 'actxjglakpabjhqzmwhw', 'orderDate': '2020-09-03', 'orderType': 'sale', 'shipDate': '2020-09-12', 'discount': 0.537673259743523, 'quantity': 8, 'productNumber': '8c5bfe8f-edd6-11ea-ab7a-0ec120e133fc'}\n",
      "[{'customerNumber': '8c5bfe86-edd6-11ea-ab7a-0ec120e133fc', 'orderNumber': '8c5bfe87-edd6-11ea-ab7a-0ec120e133fc', 'comments': 'xxttaxdvihvmzznehyiq', 'orderDate': '2020-09-03', 'orderType': 'sale', 'shipDate': '2020-09-12', 'discount': 0.6798164024118996, 'quantity': 99, 'productNumber': '8c5bfe88-edd6-11ea-ab7a-0ec120e133fc'}, {'customerNumber': '8c5bfe89-edd6-11ea-ab7a-0ec120e133fc', 'orderNumber': '8c5bfe8a-edd6-11ea-ab7a-0ec120e133fc', 'comments': 'pbuygabbvceypdkieofv', 'orderDate': '2020-09-03', 'orderType': 'sale', 'shipDate': '2020-09-11', 'discount': 0.9399369910325552, 'quantity': 63, 'productNumber': '8c5bfe8b-edd6-11ea-ab7a-0ec120e133fc'}, {'customerNumber': '8c5bfe89-edd6-11ea-ab7a-0ec120e133fc', 'orderNumber': '8c5bfe8c-edd6-11ea-ab7a-0ec120e133fc', 'comments': 'rtcurczddsdrapxveqyx', 'orderDate': '2020-09-03', 'orderType': 'sale', 'shipDate': '2020-09-17', 'discount': 0.3530610605209632, 'quantity': 36, 'productNumber': '8c5bfe8d-edd6-11ea-ab7a-0ec120e133fc'}, {'customerNumber': '8c5bfe89-edd6-11ea-ab7a-0ec120e133fc', 'orderNumber': '8c5bfe8e-edd6-11ea-ab7a-0ec120e133fc', 'comments': 'actxjglakpabjhqzmwhw', 'orderDate': '2020-09-03', 'orderType': 'sale', 'shipDate': '2020-09-12', 'discount': 0.537673259743523, 'quantity': 8, 'productNumber': '8c5bfe8f-edd6-11ea-ab7a-0ec120e133fc'}]\n"
     ]
    }
   ],
   "source": [
    "def main():\n",
    "    \n",
    "    c = open(\"customers.json\", \"w\")\n",
    "    o = open(\"orders.json\", \"w\")\n",
    "    \n",
    "    generateCustomers(c,o)\n",
    "    \n",
    "    c.close()\n",
    "    o.close()\n",
    "   \n",
    "\n",
    "if __name__ == \"__main__\":\n",
    "    main()"
   ]
  },
  {
   "cell_type": "code",
   "execution_count": 300,
   "metadata": {},
   "outputs": [],
   "source": [
    "order=SalesOrder(\"123\")"
   ]
  },
  {
   "cell_type": "code",
   "execution_count": 301,
   "metadata": {},
   "outputs": [
    {
     "name": "stdout",
     "output_type": "stream",
     "text": [
      "customerNumber,orderNumber,comments,orderDate,orderType,shipDate,discount,quantity,productNumber\n",
      "'123','8c5bfe90-edd6-11ea-ab7a-0ec120e133fc','wwqmjhfssusymrmpvvdh','2020-09-03','sale','2020-09-09','0.4629183670882743','62','8c5bfe91-edd6-11ea-ab7a-0ec120e133fc'\n",
      "{'customerNumber': '123', 'orderNumber': '8c5bfe90-edd6-11ea-ab7a-0ec120e133fc', 'comments': 'wwqmjhfssusymrmpvvdh', 'orderDate': '2020-09-03', 'orderType': 'sale', 'shipDate': '2020-09-09', 'discount': 0.4629183670882743, 'quantity': 62, 'productNumber': '8c5bfe91-edd6-11ea-ab7a-0ec120e133fc'}\n"
     ]
    }
   ],
   "source": [
    "columns = ','.join([col for col in order.getColumns()])\n",
    "values = ','.join([\"'\" + commaCheck(value) + \"'\" for value in order.getValues()])\n",
    "print(columns)\n",
    "print(values)\n",
    "\n",
    "j=generateJSON(order)"
   ]
  },
  {
   "cell_type": "code",
   "execution_count": 302,
   "metadata": {},
   "outputs": [],
   "source": [
    "customer=Customer()"
   ]
  },
  {
   "cell_type": "code",
   "execution_count": 303,
   "metadata": {},
   "outputs": [],
   "source": [
    "customer.customerNumber=\"123\""
   ]
  },
  {
   "cell_type": "code",
   "execution_count": 304,
   "metadata": {},
   "outputs": [
    {
     "name": "stdout",
     "output_type": "stream",
     "text": [
      "['customerNumber', 'customerName', 'phoneNumber', 'postalCode', 'locale', 'dateCreated', 'email']\n"
     ]
    }
   ],
   "source": [
    "print(customer.getColumns())"
   ]
  },
  {
   "cell_type": "code",
   "execution_count": 305,
   "metadata": {},
   "outputs": [
    {
     "name": "stdout",
     "output_type": "stream",
     "text": [
      "['123', 'dtswklvyxiswzfaqyisw', 1298882, 'mrlh', 'en-US.utf-8', '2020-09-03', 'ysbh@ojnn.com']\n"
     ]
    }
   ],
   "source": [
    "print(customer.getValues())"
   ]
  },
  {
   "cell_type": "code",
   "execution_count": 306,
   "metadata": {},
   "outputs": [
    {
     "data": {
      "text/plain": [
       "['123',\n",
       " '8c5bfe90-edd6-11ea-ab7a-0ec120e133fc',\n",
       " 'wwqmjhfssusymrmpvvdh',\n",
       " '2020-09-03',\n",
       " 'sale',\n",
       " '2020-09-09',\n",
       " 0.4629183670882743,\n",
       " 62,\n",
       " '8c5bfe91-edd6-11ea-ab7a-0ec120e133fc']"
      ]
     },
     "execution_count": 306,
     "metadata": {},
     "output_type": "execute_result"
    }
   ],
   "source": [
    "order.getValues()"
   ]
  },
  {
   "cell_type": "code",
   "execution_count": 307,
   "metadata": {},
   "outputs": [
    {
     "data": {
      "text/plain": [
       "['customerNumber',\n",
       " 'orderNumber',\n",
       " 'comments',\n",
       " 'orderDate',\n",
       " 'orderType',\n",
       " 'shipDate',\n",
       " 'discount',\n",
       " 'quantity',\n",
       " 'productNumber']"
      ]
     },
     "execution_count": 307,
     "metadata": {},
     "output_type": "execute_result"
    }
   ],
   "source": [
    "order.getColumns()"
   ]
  },
  {
   "cell_type": "code",
   "execution_count": 308,
   "metadata": {},
   "outputs": [
    {
     "data": {
      "text/plain": [
       "0.039442045611948306"
      ]
     },
     "execution_count": 308,
     "metadata": {},
     "output_type": "execute_result"
    }
   ],
   "source": [
    "random.random()"
   ]
  },
  {
   "cell_type": "code",
   "execution_count": null,
   "metadata": {},
   "outputs": [],
   "source": []
  }
 ],
 "metadata": {
  "kernelspec": {
   "display_name": "Python 3",
   "language": "python",
   "name": "python3"
  },
  "language_info": {
   "codemirror_mode": {
    "name": "ipython",
    "version": 3
   },
   "file_extension": ".py",
   "mimetype": "text/x-python",
   "name": "python",
   "nbconvert_exporter": "python",
   "pygments_lexer": "ipython3",
   "version": "3.7.9"
  }
 },
 "nbformat": 4,
 "nbformat_minor": 4
}
