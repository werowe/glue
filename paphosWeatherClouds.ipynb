{
 "cells": [
  {
   "cell_type": "markdown",
   "metadata": {},
   "source": [
    "#### Paphos Weather\n",
    "\n",
    "This page shows various metrics for the weather in Paphos, Cyprus.\n",
    "\n",
    "Weather data is purchased from Openweather Marketplace [here](https://home.openweathermap.org/marketplace/my_orders)\n",
    "\n"
   ]
  },
  {
   "cell_type": "code",
   "execution_count": 4,
   "metadata": {},
   "outputs": [],
   "source": [
    "\n",
    "from datetime import date\n",
    "from datetime import datetime\n",
    "import time\n",
    "import pandas as pd\n",
    "\n",
    "\n",
    "def toDate(epoch_time):\n",
    "    return datetime.fromtimestamp(epoch_time)\n",
    "  \n"
   ]
  },
  {
   "cell_type": "code",
   "execution_count": 2,
   "metadata": {},
   "outputs": [],
   "source": [
    "import pandas as pd\n",
    "\n",
    "df=pd.read_json('/Users/walkerrowe/Documents/weather/pathosWeather.json')"
   ]
  },
  {
   "cell_type": "code",
   "execution_count": 3,
   "metadata": {},
   "outputs": [
    {
     "data": {
      "text/plain": [
       "Index(['city_name', 'lat', 'lon', 'main', 'wind', 'clouds', 'weather', 'dt',\n",
       "       'dt_iso', 'timezone', 'rain'],\n",
       "      dtype='object')"
      ]
     },
     "execution_count": 3,
     "metadata": {},
     "output_type": "execute_result"
    }
   ],
   "source": [
    "df.columns"
   ]
  },
  {
   "cell_type": "code",
   "execution_count": 5,
   "metadata": {},
   "outputs": [
    {
     "data": {
      "text/plain": [
       "0        2000-01-01 02:00:00\n",
       "1        2000-01-01 03:00:00\n",
       "2        2000-01-01 04:00:00\n",
       "3        2000-01-01 05:00:00\n",
       "4        2000-01-01 06:00:00\n",
       "                 ...        \n",
       "181459   2020-09-12 22:00:00\n",
       "181460   2020-09-12 23:00:00\n",
       "181461   2020-09-13 00:00:00\n",
       "181462   2020-09-13 01:00:00\n",
       "181463   2020-09-13 02:00:00\n",
       "Name: dt, Length: 181464, dtype: datetime64[ns]"
      ]
     },
     "execution_count": 5,
     "metadata": {},
     "output_type": "execute_result"
    }
   ],
   "source": [
    "df['dt'].map(toDate)"
   ]
  },
  {
   "cell_type": "markdown",
   "metadata": {},
   "source": [
    "We have to convert the epoch time to ISO Date, which is something we can read.\n",
    "\n",
    "The map function runs a function over a series.  A series means a dataframe with one column.  When we write df['new column'] = df['some column'].map(somefunction) it adds the new columns to the dataframe.\n"
   ]
  },
  {
   "cell_type": "markdown",
   "metadata": {},
   "source": [
    "This determines it is rained.  Need to know when it was cloudy."
   ]
  },
  {
   "cell_type": "code",
   "execution_count": 81,
   "metadata": {},
   "outputs": [],
   "source": [
    "df['dateTime']=df['dt'].map(lambda l: toDate(l).strftime(\"%Y-%m-%d %H:%M:%S\"))"
   ]
  },
  {
   "cell_type": "code",
   "execution_count": 17,
   "metadata": {},
   "outputs": [],
   "source": [
    "rainy = df[~df['rain'].isnull()]"
   ]
  },
  {
   "cell_type": "code",
   "execution_count": 20,
   "metadata": {},
   "outputs": [
    {
     "data": {
      "text/plain": [
       "isoDate\n",
       "2000-01-03 00:00:00    {'1h': 0.30000000000000004}\n",
       "2000-01-03 01:00:00    {'1h': 0.30000000000000004}\n",
       "2000-01-03 02:00:00                    {'1h': 0.5}\n",
       "2000-01-03 03:00:00                    {'1h': 0.5}\n",
       "2000-01-03 04:00:00                    {'1h': 0.5}\n",
       "                                  ...             \n",
       "2020-04-25 09:00:00    {'1h': 0.30000000000000004}\n",
       "2020-04-25 14:00:00                   {'1h': 0.33}\n",
       "2020-05-03 04:00:00                   {'1h': 0.33}\n",
       "2020-05-05 09:00:00    {'1h': 0.30000000000000004}\n",
       "2020-05-24 04:00:00                   {'1h': 0.33}\n",
       "Name: rain, Length: 5395, dtype: object"
      ]
     },
     "execution_count": 20,
     "metadata": {},
     "output_type": "execute_result"
    }
   ],
   "source": [
    "rainy['rain']"
   ]
  },
  {
   "cell_type": "code",
   "execution_count": 7,
   "metadata": {},
   "outputs": [
    {
     "data": {
      "text/plain": [
       "0          {'all': 1}\n",
       "1         {'all': 15}\n",
       "2         {'all': 30}\n",
       "3          {'all': 1}\n",
       "4         {'all': 14}\n",
       "             ...     \n",
       "181459    {'all': 40}\n",
       "181460    {'all': 40}\n",
       "181461    {'all': 40}\n",
       "181462    {'all': 40}\n",
       "181463    {'all': 20}\n",
       "Name: clouds, Length: 181464, dtype: object"
      ]
     },
     "execution_count": 7,
     "metadata": {},
     "output_type": "execute_result"
    }
   ],
   "source": [
    "df['clouds']"
   ]
  },
  {
   "cell_type": "code",
   "execution_count": 8,
   "metadata": {},
   "outputs": [
    {
     "data": {
      "text/plain": [
       "0         [{'id': 800, 'main': 'Clear', 'description': '...\n",
       "1         [{'id': 801, 'main': 'Clouds', 'description': ...\n",
       "2         [{'id': 802, 'main': 'Clouds', 'description': ...\n",
       "3         [{'id': 800, 'main': 'Clear', 'description': '...\n",
       "4         [{'id': 801, 'main': 'Clouds', 'description': ...\n",
       "                                ...                        \n",
       "181459    [{'id': 802, 'main': 'Clouds', 'description': ...\n",
       "181460    [{'id': 802, 'main': 'Clouds', 'description': ...\n",
       "181461    [{'id': 802, 'main': 'Clouds', 'description': ...\n",
       "181462    [{'id': 802, 'main': 'Clouds', 'description': ...\n",
       "181463    [{'id': 801, 'main': 'Clouds', 'description': ...\n",
       "Name: weather, Length: 181464, dtype: object"
      ]
     },
     "execution_count": 8,
     "metadata": {},
     "output_type": "execute_result"
    }
   ],
   "source": [
    "df['weather']"
   ]
  },
  {
   "cell_type": "code",
   "execution_count": 8,
   "metadata": {},
   "outputs": [],
   "source": [
    "rainy['isoDate']=df['dt'].map(toDate)"
   ]
  },
  {
   "cell_type": "code",
   "execution_count": 9,
   "metadata": {},
   "outputs": [
    {
     "data": {
      "text/plain": [
       "Index(['city_name', 'lat', 'lon', 'main', 'wind', 'clouds', 'weather', 'dt',\n",
       "       'dt_iso', 'timezone', 'rain', 'isoDate'],\n",
       "      dtype='object')"
      ]
     },
     "execution_count": 9,
     "metadata": {},
     "output_type": "execute_result"
    }
   ],
   "source": [
    "df.columns"
   ]
  },
  {
   "cell_type": "markdown",
   "metadata": {},
   "source": [
    "We want to caculate the average temperature by date usign the mean() function.  But the problem is that the date is an object inside the **main** object.  See below how to fix that."
   ]
  },
  {
   "cell_type": "code",
   "execution_count": 14,
   "metadata": {},
   "outputs": [],
   "source": [
    "df['weatherMain']=df['weather'].map(lambda x: x[0]['main'])"
   ]
  },
  {
   "cell_type": "code",
   "execution_count": 15,
   "metadata": {},
   "outputs": [],
   "source": [
    "df['weatherDesc']=df['weather'].map(lambda x: x[0]['description'])"
   ]
  },
  {
   "cell_type": "code",
   "execution_count": 17,
   "metadata": {},
   "outputs": [
    {
     "data": {
      "text/plain": [
       "0          Clear\n",
       "1         Clouds\n",
       "2         Clouds\n",
       "3          Clear\n",
       "4         Clouds\n",
       "           ...  \n",
       "181459    Clouds\n",
       "181460    Clouds\n",
       "181461    Clouds\n",
       "181462    Clouds\n",
       "181463    Clouds\n",
       "Name: weatherMain, Length: 181464, dtype: object"
      ]
     },
     "execution_count": 17,
     "metadata": {},
     "output_type": "execute_result"
    }
   ],
   "source": [
    "df['weatherMain']"
   ]
  },
  {
   "cell_type": "code",
   "execution_count": 42,
   "metadata": {},
   "outputs": [
    {
     "data": {
      "text/plain": [
       "0             sky is clear\n",
       "1               few clouds\n",
       "2         scattered clouds\n",
       "3             sky is clear\n",
       "4               few clouds\n",
       "                ...       \n",
       "181459    scattered clouds\n",
       "181460    scattered clouds\n",
       "181461    scattered clouds\n",
       "181462    scattered clouds\n",
       "181463          few clouds\n",
       "Name: weatherDesc, Length: 181464, dtype: object"
      ]
     },
     "execution_count": 42,
     "metadata": {},
     "output_type": "execute_result"
    }
   ],
   "source": [
    "df['weatherDesc']"
   ]
  },
  {
   "cell_type": "code",
   "execution_count": 16,
   "metadata": {},
   "outputs": [],
   "source": [
    "df['temp']=df[\"main\"].map(lambda x: x[\"temp\"])\n",
    "df['temp_min']=df[\"main\"].map(lambda x: x[\"temp_min\"])\n",
    "df['temp_max']=df[\"main\"].map(lambda x: x[\"temp_max\"])"
   ]
  },
  {
   "cell_type": "code",
   "execution_count": 20,
   "metadata": {},
   "outputs": [],
   "source": [
    "import numpy as np\n",
    "\n",
    "year=[]\n",
    "month=[]\n",
    "row=len(df.index)\n",
    "for j in range(0,row):\n",
    "    date=df[\"dt_iso\"][j]\n",
    "    onlyDate=date[:len(date)-19]\n",
    "    year.append(onlyDate[0:4])\n",
    "    month.append(int(onlyDate[5:7]))\n",
    "    \n",
    "    \n",
    "month=np.asarray(month)\n",
    "year=np.asarray(year)"
   ]
  },
  {
   "cell_type": "code",
   "execution_count": 65,
   "metadata": {},
   "outputs": [],
   "source": [
    "df['month']=pd.DataFrame(month)\n",
    "df['year']=pd.DataFrame(year).astype('int32')"
   ]
  },
  {
   "cell_type": "code",
   "execution_count": 43,
   "metadata": {},
   "outputs": [],
   "source": [
    "winter=df.loc[df['month'] < 4 ].groupby(['month']) "
   ]
  },
  {
   "cell_type": "code",
   "execution_count": 82,
   "metadata": {},
   "outputs": [],
   "source": [
    "december=df.loc[df['month'] == 12 ].groupby(['year','month','weatherMain'])"
   ]
  },
  {
   "cell_type": "code",
   "execution_count": 51,
   "metadata": {},
   "outputs": [
    {
     "data": {
      "text/plain": [
       "dict_keys([('2000', 12, 'Clear'), ('2000', 12, 'Clouds'), ('2000', 12, 'Rain'), ('2000', 12, 'Thunderstorm'), ('2001', 12, 'Clear'), ('2001', 12, 'Clouds'), ('2001', 12, 'Rain'), ('2001', 12, 'Thunderstorm'), ('2002', 12, 'Clear'), ('2002', 12, 'Clouds'), ('2002', 12, 'Rain'), ('2002', 12, 'Thunderstorm'), ('2003', 12, 'Clear'), ('2003', 12, 'Clouds'), ('2003', 12, 'Rain'), ('2003', 12, 'Thunderstorm'), ('2004', 12, 'Clear'), ('2004', 12, 'Clouds'), ('2004', 12, 'Rain'), ('2004', 12, 'Thunderstorm'), ('2005', 12, 'Clear'), ('2005', 12, 'Clouds'), ('2005', 12, 'Haze'), ('2005', 12, 'Mist'), ('2005', 12, 'Rain'), ('2006', 12, 'Clear'), ('2006', 12, 'Clouds'), ('2006', 12, 'Rain'), ('2006', 12, 'Thunderstorm'), ('2007', 12, 'Clear'), ('2007', 12, 'Clouds'), ('2007', 12, 'Rain'), ('2007', 12, 'Thunderstorm'), ('2008', 12, 'Clear'), ('2008', 12, 'Clouds'), ('2008', 12, 'Rain'), ('2008', 12, 'Thunderstorm'), ('2009', 12, 'Clear'), ('2009', 12, 'Clouds'), ('2009', 12, 'Haze'), ('2009', 12, 'Rain'), ('2009', 12, 'Thunderstorm'), ('2010', 12, 'Clear'), ('2010', 12, 'Clouds'), ('2010', 12, 'Dust'), ('2010', 12, 'Haze'), ('2010', 12, 'Rain'), ('2010', 12, 'Thunderstorm'), ('2010', 12, 'Tornado'), ('2011', 12, 'Clear'), ('2011', 12, 'Clouds'), ('2011', 12, 'Rain'), ('2011', 12, 'Thunderstorm'), ('2012', 12, 'Clear'), ('2012', 12, 'Clouds'), ('2012', 12, 'Rain'), ('2012', 12, 'Thunderstorm'), ('2013', 12, 'Clear'), ('2013', 12, 'Clouds'), ('2013', 12, 'Rain'), ('2013', 12, 'Thunderstorm'), ('2014', 12, 'Clear'), ('2014', 12, 'Clouds'), ('2014', 12, 'Haze'), ('2014', 12, 'Rain'), ('2014', 12, 'Thunderstorm'), ('2015', 12, 'Clear'), ('2015', 12, 'Clouds'), ('2015', 12, 'Rain'), ('2015', 12, 'Thunderstorm'), ('2016', 12, 'Clear'), ('2016', 12, 'Clouds'), ('2016', 12, 'Mist'), ('2016', 12, 'Rain'), ('2016', 12, 'Thunderstorm'), ('2017', 12, 'Clear'), ('2017', 12, 'Clouds'), ('2017', 12, 'Dust'), ('2017', 12, 'Mist'), ('2017', 12, 'Rain'), ('2017', 12, 'Thunderstorm'), ('2018', 12, 'Clear'), ('2018', 12, 'Clouds'), ('2018', 12, 'Rain'), ('2018', 12, 'Thunderstorm'), ('2019', 12, 'Clear'), ('2019', 12, 'Clouds'), ('2019', 12, 'Mist'), ('2019', 12, 'Rain'), ('2019', 12, 'Thunderstorm')])"
      ]
     },
     "execution_count": 51,
     "metadata": {},
     "output_type": "execute_result"
    }
   ],
   "source": [
    "december.groups.keys()"
   ]
  },
  {
   "cell_type": "code",
   "execution_count": 64,
   "metadata": {},
   "outputs": [
    {
     "data": {
      "text/plain": [
       "0         2000\n",
       "1         2000\n",
       "2         2000\n",
       "3         2000\n",
       "4         2000\n",
       "          ... \n",
       "181459    2020\n",
       "181460    2020\n",
       "181461    2020\n",
       "181462    2020\n",
       "181463    2020\n",
       "Name: year, Length: 181464, dtype: object"
      ]
     },
     "execution_count": 64,
     "metadata": {},
     "output_type": "execute_result"
    }
   ],
   "source": [
    "df['year']"
   ]
  },
  {
   "cell_type": "code",
   "execution_count": null,
   "metadata": {},
   "outputs": [],
   "source": [
    "this=(df.loc[(df['month'] == 12) & (df['year']==2019)])\n",
    "pd.set_option('display.max_rows', this.shape[0]+1)\n",
    "print(this)"
   ]
  },
  {
   "cell_type": "code",
   "execution_count": 104,
   "metadata": {},
   "outputs": [
    {
     "data": {
      "text/plain": [
       "year  month  weatherMain \n",
       "2019  12     Clear            42\n",
       "             Clouds          602\n",
       "             Mist              1\n",
       "             Rain             48\n",
       "             Thunderstorm     51\n",
       "Name: dt, dtype: int64"
      ]
     },
     "execution_count": 104,
     "metadata": {},
     "output_type": "execute_result"
    }
   ],
   "source": [
    "this.groupby(['year','month','weatherMain'])['dt'].count()"
   ]
  },
  {
   "cell_type": "code",
   "execution_count": null,
   "metadata": {},
   "outputs": [],
   "source": []
  }
 ],
 "metadata": {
  "kernelspec": {
   "display_name": "Python 3 (ipykernel)",
   "language": "python",
   "name": "python3"
  },
  "language_info": {
   "codemirror_mode": {
    "name": "ipython",
    "version": 3
   },
   "file_extension": ".py",
   "mimetype": "text/x-python",
   "name": "python",
   "nbconvert_exporter": "python",
   "pygments_lexer": "ipython3",
   "version": "3.8.9"
  }
 },
 "nbformat": 4,
 "nbformat_minor": 2
}
