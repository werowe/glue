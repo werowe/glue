{
 "cells": [
  {
   "cell_type": "code",
   "execution_count": 122,
   "id": "b807ec38",
   "metadata": {},
   "outputs": [],
   "source": [
    "import pandas as pd\n",
    "import numpy as np\n",
    "\n",
    "f='/Users/walkerrowe/Downloads/wise.csv'\n",
    "\n",
    "df = pd.read_csv(f)\n",
    "\n",
    "dt=pd.Series(df['Date'].map(lambda l : l[3:5]    + '/' + l[0:2] + '/' +    l[-4:]))\n",
    " \n",
    "payee=pd.Series(df['Description'],name=\"Payee\")\n",
    "amount=pd.Series(df['Amount'].astype('float'))\n",
    "\n",
    "\n",
    "simplifi=pd.DataFrame([dt,payee,amount]).transpose()\n",
    "\n",
    "simplifi.to_csv(f+'wise.csv',sep=\",\",line_terminator='\\n',index=False)\n",
    " "
   ]
  },
  {
   "cell_type": "code",
   "execution_count": 121,
   "id": "76ab190d",
   "metadata": {},
   "outputs": [],
   "source": []
  },
  {
   "cell_type": "code",
   "execution_count": null,
   "id": "a576614d",
   "metadata": {},
   "outputs": [],
   "source": []
  }
 ],
 "metadata": {
  "kernelspec": {
   "display_name": "Python 3 (ipykernel)",
   "language": "python",
   "name": "python3"
  },
  "language_info": {
   "codemirror_mode": {
    "name": "ipython",
    "version": 3
   },
   "file_extension": ".py",
   "mimetype": "text/x-python",
   "name": "python",
   "nbconvert_exporter": "python",
   "pygments_lexer": "ipython3",
   "version": "3.8.2"
  }
 },
 "nbformat": 4,
 "nbformat_minor": 5
}
