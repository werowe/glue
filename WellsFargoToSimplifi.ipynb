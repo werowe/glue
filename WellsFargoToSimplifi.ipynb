{
 "cells": [
  {
   "cell_type": "code",
   "execution_count": 47,
   "id": "b807ec38",
   "metadata": {},
   "outputs": [],
   "source": [
    "import pandas as pd\n",
    "import numpy as np\n",
    "import re\n",
    "from datetime import date\n",
    "\n",
    "'''\n",
    "Date,Number,,Description,Amount,Balance\n",
    "10/20,,,Federal Benefit Payment/X...,\"1,348.00\",\"26,097.72\"\n",
    "'''\n",
    "\n",
    "\n",
    " \n",
    "todays_date = date.today()\n",
    "\n",
    "\n",
    "f='/Users/walkerrowe/Downloads/wf.csv'\n",
    "\n",
    "df = pd.read_csv(f)\n",
    "\n",
    "df.columns=['Date','Amount','Junk','Junk1','Description']\n",
    "dt=pd.Series(df['Date'].map(lambda l : l[0:5]    + '/' + str(todays_date.year) ))\n",
    "\n",
    " \n",
    "payee=pd.Series(df['Description'],name=\"Payee\")\n",
    "\n",
    "   \n",
    "amount=pd.Series(df['Amount'])\n",
    "\n",
    "simplifi=pd.DataFrame([dt,payee,amount]).transpose()\n",
    "\n",
    "simplifi.to_csv(f+'.csv',sep=\",\",line_terminator='\\n',index=False)\n",
    " "
   ]
  },
  {
   "cell_type": "code",
   "execution_count": null,
   "id": "dd90adac",
   "metadata": {},
   "outputs": [],
   "source": []
  }
 ],
 "metadata": {
  "kernelspec": {
   "display_name": "Python 3 (ipykernel)",
   "language": "python",
   "name": "python3"
  },
  "language_info": {
   "codemirror_mode": {
    "name": "ipython",
    "version": 3
   },
   "file_extension": ".py",
   "mimetype": "text/x-python",
   "name": "python",
   "nbconvert_exporter": "python",
   "pygments_lexer": "ipython3",
   "version": "3.8.9"
  }
 },
 "nbformat": 4,
 "nbformat_minor": 5
}
